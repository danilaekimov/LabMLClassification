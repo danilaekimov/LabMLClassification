{
 "cells": [
  {
   "metadata": {},
   "cell_type": "markdown",
   "source": "#### Импорт библиотек",
   "id": "191c9261762c5a0e"
  },
  {
   "metadata": {
    "ExecuteTime": {
     "end_time": "2024-11-05T20:07:59.315276Z",
     "start_time": "2024-11-05T20:07:59.300316Z"
    }
   },
   "cell_type": "code",
   "source": [
    "import pandas as pd\n",
    "from pathlib import Path\n",
    "from sklearn.model_selection import train_test_split\n",
    "from sklearn.preprocessing import MinMaxScaler\n",
    "import lightgbm as lgb\n",
    "from sklearn.model_selection import cross_val_score\n",
    "from sklearn.metrics import f1_score"
   ],
   "id": "8f1dc545dbf71dde",
   "outputs": [],
   "execution_count": 3
  },
  {
   "metadata": {},
   "cell_type": "markdown",
   "source": "#### Путь для датасета",
   "id": "9338276292187849"
  },
  {
   "metadata": {
    "ExecuteTime": {
     "end_time": "2024-11-05T20:08:00.355881Z",
     "start_time": "2024-11-05T20:08:00.328771Z"
    }
   },
   "cell_type": "code",
   "source": [
    "# Объявляем путь до каталога data, где хранится файл\n",
    "PATH_TO_FILE = Path(\"main.ipynb\").resolve().parents[1].joinpath(\"data\")"
   ],
   "id": "194e711f1420748a",
   "outputs": [],
   "execution_count": 4
  },
  {
   "metadata": {},
   "cell_type": "markdown",
   "source": "#### Загрузка и обзор данных",
   "id": "4f5c1955daab903f"
  },
  {
   "metadata": {
    "ExecuteTime": {
     "end_time": "2024-11-05T20:08:01.450782Z",
     "start_time": "2024-11-05T20:08:01.279677Z"
    }
   },
   "cell_type": "code",
   "source": [
    "# Загружаем файл\n",
    "data = pd.read_csv(PATH_TO_FILE.joinpath(\"dataset.csv\"))\n",
    "# выводим первые 5 строк\n",
    "data.head(5)"
   ],
   "id": "9ef72f965a65c6b2",
   "outputs": [
    {
     "data": {
      "text/plain": [
       "   Population  Area (sq. mi.)  Pop. Density   GDP ($ per capita)  \\\n",
       "0     9944201         1284000            7.7                1200   \n",
       "1     5450661           43094          126.5               31100   \n",
       "2    26783383          437072           61.3                1500   \n",
       "3        9439             102           92.5                3400   \n",
       "4     3431932          176220           19.5               12800   \n",
       "\n",
       "   Literacy (%)  Infant mortality   Development Index  \n",
       "0          47.5              93.82                  2  \n",
       "1         100.0               4.56                  4  \n",
       "2          40.4              50.25                  2  \n",
       "3          97.0               7.35                  4  \n",
       "4          98.0              11.95                  3  "
      ],
      "text/html": [
       "<div>\n",
       "<style scoped>\n",
       "    .dataframe tbody tr th:only-of-type {\n",
       "        vertical-align: middle;\n",
       "    }\n",
       "\n",
       "    .dataframe tbody tr th {\n",
       "        vertical-align: top;\n",
       "    }\n",
       "\n",
       "    .dataframe thead th {\n",
       "        text-align: right;\n",
       "    }\n",
       "</style>\n",
       "<table border=\"1\" class=\"dataframe\">\n",
       "  <thead>\n",
       "    <tr style=\"text-align: right;\">\n",
       "      <th></th>\n",
       "      <th>Population</th>\n",
       "      <th>Area (sq. mi.)</th>\n",
       "      <th>Pop. Density</th>\n",
       "      <th>GDP ($ per capita)</th>\n",
       "      <th>Literacy (%)</th>\n",
       "      <th>Infant mortality</th>\n",
       "      <th>Development Index</th>\n",
       "    </tr>\n",
       "  </thead>\n",
       "  <tbody>\n",
       "    <tr>\n",
       "      <th>0</th>\n",
       "      <td>9944201</td>\n",
       "      <td>1284000</td>\n",
       "      <td>7.7</td>\n",
       "      <td>1200</td>\n",
       "      <td>47.5</td>\n",
       "      <td>93.82</td>\n",
       "      <td>2</td>\n",
       "    </tr>\n",
       "    <tr>\n",
       "      <th>1</th>\n",
       "      <td>5450661</td>\n",
       "      <td>43094</td>\n",
       "      <td>126.5</td>\n",
       "      <td>31100</td>\n",
       "      <td>100.0</td>\n",
       "      <td>4.56</td>\n",
       "      <td>4</td>\n",
       "    </tr>\n",
       "    <tr>\n",
       "      <th>2</th>\n",
       "      <td>26783383</td>\n",
       "      <td>437072</td>\n",
       "      <td>61.3</td>\n",
       "      <td>1500</td>\n",
       "      <td>40.4</td>\n",
       "      <td>50.25</td>\n",
       "      <td>2</td>\n",
       "    </tr>\n",
       "    <tr>\n",
       "      <th>3</th>\n",
       "      <td>9439</td>\n",
       "      <td>102</td>\n",
       "      <td>92.5</td>\n",
       "      <td>3400</td>\n",
       "      <td>97.0</td>\n",
       "      <td>7.35</td>\n",
       "      <td>4</td>\n",
       "    </tr>\n",
       "    <tr>\n",
       "      <th>4</th>\n",
       "      <td>3431932</td>\n",
       "      <td>176220</td>\n",
       "      <td>19.5</td>\n",
       "      <td>12800</td>\n",
       "      <td>98.0</td>\n",
       "      <td>11.95</td>\n",
       "      <td>3</td>\n",
       "    </tr>\n",
       "  </tbody>\n",
       "</table>\n",
       "</div>"
      ]
     },
     "execution_count": 5,
     "metadata": {},
     "output_type": "execute_result"
    }
   ],
   "execution_count": 5
  },
  {
   "metadata": {
    "ExecuteTime": {
     "end_time": "2024-11-05T20:08:02.408767Z",
     "start_time": "2024-11-05T20:08:02.352490Z"
    }
   },
   "cell_type": "code",
   "source": [
    "# Получаем информацию о датасете\n",
    "data.info()"
   ],
   "id": "7d2eac8a241d2e26",
   "outputs": [
    {
     "name": "stdout",
     "output_type": "stream",
     "text": [
      "<class 'pandas.core.frame.DataFrame'>\n",
      "RangeIndex: 225 entries, 0 to 224\n",
      "Data columns (total 7 columns):\n",
      " #   Column              Non-Null Count  Dtype  \n",
      "---  ------              --------------  -----  \n",
      " 0   Population          225 non-null    int64  \n",
      " 1   Area (sq. mi.)      225 non-null    int64  \n",
      " 2   Pop. Density        225 non-null    float64\n",
      " 3   GDP ($ per capita)  225 non-null    int64  \n",
      " 4   Literacy (%)        225 non-null    float64\n",
      " 5   Infant mortality    225 non-null    float64\n",
      " 6   Development Index   225 non-null    int64  \n",
      "dtypes: float64(3), int64(4)\n",
      "memory usage: 12.4 KB\n"
     ]
    }
   ],
   "execution_count": 6
  },
  {
   "metadata": {
    "ExecuteTime": {
     "end_time": "2024-11-05T20:08:03.110768Z",
     "start_time": "2024-11-05T20:08:03.011918Z"
    }
   },
   "cell_type": "code",
   "source": [
    "# Смотрим на распределение данных в датасете\n",
    "data.describe()"
   ],
   "id": "a46a3b78ff01cfbe",
   "outputs": [
    {
     "data": {
      "text/plain": [
       "         Population  Area (sq. mi.)  Pop. Density   GDP ($ per capita)  \\\n",
       "count  2.250000e+02    2.250000e+02     225.000000          225.000000   \n",
       "mean   2.898360e+07    6.023363e+05     380.545778         9729.333333   \n",
       "std    1.183879e+08    1.797679e+06    1667.386671        10053.936329   \n",
       "min    7.026000e+03    2.000000e+00       0.000000          500.000000   \n",
       "25%    4.391170e+05    4.167000e+03      29.300000         1900.000000   \n",
       "50%    5.042920e+06    8.660000e+04      78.800000         5600.000000   \n",
       "75%    1.765484e+07    4.465500e+05     188.500000        15700.000000   \n",
       "max    1.313974e+09    1.707520e+07   16271.500000        55100.000000   \n",
       "\n",
       "       Literacy (%)  Infant mortality   Development Index  \n",
       "count    225.000000         225.000000         225.000000  \n",
       "mean      83.987556          35.261956           2.968889  \n",
       "std       19.455371          35.453113           0.883333  \n",
       "min       17.600000           0.000000           1.000000  \n",
       "25%       76.200000           7.870000           2.000000  \n",
       "50%       93.000000          20.970000           3.000000  \n",
       "75%       98.500000          55.510000           4.000000  \n",
       "max      100.000000         191.190000           4.000000  "
      ],
      "text/html": [
       "<div>\n",
       "<style scoped>\n",
       "    .dataframe tbody tr th:only-of-type {\n",
       "        vertical-align: middle;\n",
       "    }\n",
       "\n",
       "    .dataframe tbody tr th {\n",
       "        vertical-align: top;\n",
       "    }\n",
       "\n",
       "    .dataframe thead th {\n",
       "        text-align: right;\n",
       "    }\n",
       "</style>\n",
       "<table border=\"1\" class=\"dataframe\">\n",
       "  <thead>\n",
       "    <tr style=\"text-align: right;\">\n",
       "      <th></th>\n",
       "      <th>Population</th>\n",
       "      <th>Area (sq. mi.)</th>\n",
       "      <th>Pop. Density</th>\n",
       "      <th>GDP ($ per capita)</th>\n",
       "      <th>Literacy (%)</th>\n",
       "      <th>Infant mortality</th>\n",
       "      <th>Development Index</th>\n",
       "    </tr>\n",
       "  </thead>\n",
       "  <tbody>\n",
       "    <tr>\n",
       "      <th>count</th>\n",
       "      <td>2.250000e+02</td>\n",
       "      <td>2.250000e+02</td>\n",
       "      <td>225.000000</td>\n",
       "      <td>225.000000</td>\n",
       "      <td>225.000000</td>\n",
       "      <td>225.000000</td>\n",
       "      <td>225.000000</td>\n",
       "    </tr>\n",
       "    <tr>\n",
       "      <th>mean</th>\n",
       "      <td>2.898360e+07</td>\n",
       "      <td>6.023363e+05</td>\n",
       "      <td>380.545778</td>\n",
       "      <td>9729.333333</td>\n",
       "      <td>83.987556</td>\n",
       "      <td>35.261956</td>\n",
       "      <td>2.968889</td>\n",
       "    </tr>\n",
       "    <tr>\n",
       "      <th>std</th>\n",
       "      <td>1.183879e+08</td>\n",
       "      <td>1.797679e+06</td>\n",
       "      <td>1667.386671</td>\n",
       "      <td>10053.936329</td>\n",
       "      <td>19.455371</td>\n",
       "      <td>35.453113</td>\n",
       "      <td>0.883333</td>\n",
       "    </tr>\n",
       "    <tr>\n",
       "      <th>min</th>\n",
       "      <td>7.026000e+03</td>\n",
       "      <td>2.000000e+00</td>\n",
       "      <td>0.000000</td>\n",
       "      <td>500.000000</td>\n",
       "      <td>17.600000</td>\n",
       "      <td>0.000000</td>\n",
       "      <td>1.000000</td>\n",
       "    </tr>\n",
       "    <tr>\n",
       "      <th>25%</th>\n",
       "      <td>4.391170e+05</td>\n",
       "      <td>4.167000e+03</td>\n",
       "      <td>29.300000</td>\n",
       "      <td>1900.000000</td>\n",
       "      <td>76.200000</td>\n",
       "      <td>7.870000</td>\n",
       "      <td>2.000000</td>\n",
       "    </tr>\n",
       "    <tr>\n",
       "      <th>50%</th>\n",
       "      <td>5.042920e+06</td>\n",
       "      <td>8.660000e+04</td>\n",
       "      <td>78.800000</td>\n",
       "      <td>5600.000000</td>\n",
       "      <td>93.000000</td>\n",
       "      <td>20.970000</td>\n",
       "      <td>3.000000</td>\n",
       "    </tr>\n",
       "    <tr>\n",
       "      <th>75%</th>\n",
       "      <td>1.765484e+07</td>\n",
       "      <td>4.465500e+05</td>\n",
       "      <td>188.500000</td>\n",
       "      <td>15700.000000</td>\n",
       "      <td>98.500000</td>\n",
       "      <td>55.510000</td>\n",
       "      <td>4.000000</td>\n",
       "    </tr>\n",
       "    <tr>\n",
       "      <th>max</th>\n",
       "      <td>1.313974e+09</td>\n",
       "      <td>1.707520e+07</td>\n",
       "      <td>16271.500000</td>\n",
       "      <td>55100.000000</td>\n",
       "      <td>100.000000</td>\n",
       "      <td>191.190000</td>\n",
       "      <td>4.000000</td>\n",
       "    </tr>\n",
       "  </tbody>\n",
       "</table>\n",
       "</div>"
      ]
     },
     "execution_count": 7,
     "metadata": {},
     "output_type": "execute_result"
    }
   ],
   "execution_count": 7
  },
  {
   "metadata": {},
   "cell_type": "markdown",
   "source": "#### Обучение модели",
   "id": "c9276dc3c682103a"
  },
  {
   "metadata": {
    "ExecuteTime": {
     "end_time": "2024-11-05T20:08:04.503086Z",
     "start_time": "2024-11-05T20:08:04.485697Z"
    }
   },
   "cell_type": "code",
   "source": [
    "# Определяем target переменную\n",
    "X = data[[\"Population\", 'GDP ($ per capita)', 'Literacy (%)']]\n",
    "y = data['Development Index']"
   ],
   "id": "cc8ecf128e58d7df",
   "outputs": [],
   "execution_count": 8
  },
  {
   "metadata": {
    "ExecuteTime": {
     "end_time": "2024-11-05T20:08:05.652294Z",
     "start_time": "2024-11-05T20:08:05.627205Z"
    }
   },
   "cell_type": "code",
   "source": [
    "# Делим данные на обучающие и тестовые\n",
    "X_train, X_test, y_train, y_test = train_test_split(X, y, test_size=0.2, random_state=42)"
   ],
   "id": "3900d8b08fecf52c",
   "outputs": [],
   "execution_count": 9
  },
  {
   "metadata": {
    "ExecuteTime": {
     "end_time": "2024-11-05T20:08:06.521039Z",
     "start_time": "2024-11-05T20:08:06.484Z"
    }
   },
   "cell_type": "code",
   "source": [
    "# Нормализуем данные\n",
    "scaler = MinMaxScaler()\n",
    "X_train_scaled = scaler.fit_transform(X_train)\n",
    "X_test_scaled = scaler.transform(X_test)"
   ],
   "id": "2684803721c85b48",
   "outputs": [],
   "execution_count": 10
  },
  {
   "metadata": {
    "ExecuteTime": {
     "end_time": "2024-11-05T20:08:07.970089Z",
     "start_time": "2024-11-05T20:08:07.066683Z"
    }
   },
   "cell_type": "code",
   "source": [
    "# Создаем и обучаем модель\n",
    "model = lgb.LGBMClassifier(verbose=-1)\n",
    "model.fit(X_train_scaled, y_train)"
   ],
   "id": "215535dcc1de514c",
   "outputs": [
    {
     "data": {
      "text/plain": [
       "LGBMClassifier(verbose=-1)"
      ],
      "text/html": [
       "<style>#sk-container-id-1 {\n",
       "  /* Definition of color scheme common for light and dark mode */\n",
       "  --sklearn-color-text: black;\n",
       "  --sklearn-color-line: gray;\n",
       "  /* Definition of color scheme for unfitted estimators */\n",
       "  --sklearn-color-unfitted-level-0: #fff5e6;\n",
       "  --sklearn-color-unfitted-level-1: #f6e4d2;\n",
       "  --sklearn-color-unfitted-level-2: #ffe0b3;\n",
       "  --sklearn-color-unfitted-level-3: chocolate;\n",
       "  /* Definition of color scheme for fitted estimators */\n",
       "  --sklearn-color-fitted-level-0: #f0f8ff;\n",
       "  --sklearn-color-fitted-level-1: #d4ebff;\n",
       "  --sklearn-color-fitted-level-2: #b3dbfd;\n",
       "  --sklearn-color-fitted-level-3: cornflowerblue;\n",
       "\n",
       "  /* Specific color for light theme */\n",
       "  --sklearn-color-text-on-default-background: var(--sg-text-color, var(--theme-code-foreground, var(--jp-content-font-color1, black)));\n",
       "  --sklearn-color-background: var(--sg-background-color, var(--theme-background, var(--jp-layout-color0, white)));\n",
       "  --sklearn-color-border-box: var(--sg-text-color, var(--theme-code-foreground, var(--jp-content-font-color1, black)));\n",
       "  --sklearn-color-icon: #696969;\n",
       "\n",
       "  @media (prefers-color-scheme: dark) {\n",
       "    /* Redefinition of color scheme for dark theme */\n",
       "    --sklearn-color-text-on-default-background: var(--sg-text-color, var(--theme-code-foreground, var(--jp-content-font-color1, white)));\n",
       "    --sklearn-color-background: var(--sg-background-color, var(--theme-background, var(--jp-layout-color0, #111)));\n",
       "    --sklearn-color-border-box: var(--sg-text-color, var(--theme-code-foreground, var(--jp-content-font-color1, white)));\n",
       "    --sklearn-color-icon: #878787;\n",
       "  }\n",
       "}\n",
       "\n",
       "#sk-container-id-1 {\n",
       "  color: var(--sklearn-color-text);\n",
       "}\n",
       "\n",
       "#sk-container-id-1 pre {\n",
       "  padding: 0;\n",
       "}\n",
       "\n",
       "#sk-container-id-1 input.sk-hidden--visually {\n",
       "  border: 0;\n",
       "  clip: rect(1px 1px 1px 1px);\n",
       "  clip: rect(1px, 1px, 1px, 1px);\n",
       "  height: 1px;\n",
       "  margin: -1px;\n",
       "  overflow: hidden;\n",
       "  padding: 0;\n",
       "  position: absolute;\n",
       "  width: 1px;\n",
       "}\n",
       "\n",
       "#sk-container-id-1 div.sk-dashed-wrapped {\n",
       "  border: 1px dashed var(--sklearn-color-line);\n",
       "  margin: 0 0.4em 0.5em 0.4em;\n",
       "  box-sizing: border-box;\n",
       "  padding-bottom: 0.4em;\n",
       "  background-color: var(--sklearn-color-background);\n",
       "}\n",
       "\n",
       "#sk-container-id-1 div.sk-container {\n",
       "  /* jupyter's `normalize.less` sets `[hidden] { display: none; }`\n",
       "     but bootstrap.min.css set `[hidden] { display: none !important; }`\n",
       "     so we also need the `!important` here to be able to override the\n",
       "     default hidden behavior on the sphinx rendered scikit-learn.org.\n",
       "     See: https://github.com/scikit-learn/scikit-learn/issues/21755 */\n",
       "  display: inline-block !important;\n",
       "  position: relative;\n",
       "}\n",
       "\n",
       "#sk-container-id-1 div.sk-text-repr-fallback {\n",
       "  display: none;\n",
       "}\n",
       "\n",
       "div.sk-parallel-item,\n",
       "div.sk-serial,\n",
       "div.sk-item {\n",
       "  /* draw centered vertical line to link estimators */\n",
       "  background-image: linear-gradient(var(--sklearn-color-text-on-default-background), var(--sklearn-color-text-on-default-background));\n",
       "  background-size: 2px 100%;\n",
       "  background-repeat: no-repeat;\n",
       "  background-position: center center;\n",
       "}\n",
       "\n",
       "/* Parallel-specific style estimator block */\n",
       "\n",
       "#sk-container-id-1 div.sk-parallel-item::after {\n",
       "  content: \"\";\n",
       "  width: 100%;\n",
       "  border-bottom: 2px solid var(--sklearn-color-text-on-default-background);\n",
       "  flex-grow: 1;\n",
       "}\n",
       "\n",
       "#sk-container-id-1 div.sk-parallel {\n",
       "  display: flex;\n",
       "  align-items: stretch;\n",
       "  justify-content: center;\n",
       "  background-color: var(--sklearn-color-background);\n",
       "  position: relative;\n",
       "}\n",
       "\n",
       "#sk-container-id-1 div.sk-parallel-item {\n",
       "  display: flex;\n",
       "  flex-direction: column;\n",
       "}\n",
       "\n",
       "#sk-container-id-1 div.sk-parallel-item:first-child::after {\n",
       "  align-self: flex-end;\n",
       "  width: 50%;\n",
       "}\n",
       "\n",
       "#sk-container-id-1 div.sk-parallel-item:last-child::after {\n",
       "  align-self: flex-start;\n",
       "  width: 50%;\n",
       "}\n",
       "\n",
       "#sk-container-id-1 div.sk-parallel-item:only-child::after {\n",
       "  width: 0;\n",
       "}\n",
       "\n",
       "/* Serial-specific style estimator block */\n",
       "\n",
       "#sk-container-id-1 div.sk-serial {\n",
       "  display: flex;\n",
       "  flex-direction: column;\n",
       "  align-items: center;\n",
       "  background-color: var(--sklearn-color-background);\n",
       "  padding-right: 1em;\n",
       "  padding-left: 1em;\n",
       "}\n",
       "\n",
       "\n",
       "/* Toggleable style: style used for estimator/Pipeline/ColumnTransformer box that is\n",
       "clickable and can be expanded/collapsed.\n",
       "- Pipeline and ColumnTransformer use this feature and define the default style\n",
       "- Estimators will overwrite some part of the style using the `sk-estimator` class\n",
       "*/\n",
       "\n",
       "/* Pipeline and ColumnTransformer style (default) */\n",
       "\n",
       "#sk-container-id-1 div.sk-toggleable {\n",
       "  /* Default theme specific background. It is overwritten whether we have a\n",
       "  specific estimator or a Pipeline/ColumnTransformer */\n",
       "  background-color: var(--sklearn-color-background);\n",
       "}\n",
       "\n",
       "/* Toggleable label */\n",
       "#sk-container-id-1 label.sk-toggleable__label {\n",
       "  cursor: pointer;\n",
       "  display: block;\n",
       "  width: 100%;\n",
       "  margin-bottom: 0;\n",
       "  padding: 0.5em;\n",
       "  box-sizing: border-box;\n",
       "  text-align: center;\n",
       "}\n",
       "\n",
       "#sk-container-id-1 label.sk-toggleable__label-arrow:before {\n",
       "  /* Arrow on the left of the label */\n",
       "  content: \"▸\";\n",
       "  float: left;\n",
       "  margin-right: 0.25em;\n",
       "  color: var(--sklearn-color-icon);\n",
       "}\n",
       "\n",
       "#sk-container-id-1 label.sk-toggleable__label-arrow:hover:before {\n",
       "  color: var(--sklearn-color-text);\n",
       "}\n",
       "\n",
       "/* Toggleable content - dropdown */\n",
       "\n",
       "#sk-container-id-1 div.sk-toggleable__content {\n",
       "  max-height: 0;\n",
       "  max-width: 0;\n",
       "  overflow: hidden;\n",
       "  text-align: left;\n",
       "  /* unfitted */\n",
       "  background-color: var(--sklearn-color-unfitted-level-0);\n",
       "}\n",
       "\n",
       "#sk-container-id-1 div.sk-toggleable__content.fitted {\n",
       "  /* fitted */\n",
       "  background-color: var(--sklearn-color-fitted-level-0);\n",
       "}\n",
       "\n",
       "#sk-container-id-1 div.sk-toggleable__content pre {\n",
       "  margin: 0.2em;\n",
       "  border-radius: 0.25em;\n",
       "  color: var(--sklearn-color-text);\n",
       "  /* unfitted */\n",
       "  background-color: var(--sklearn-color-unfitted-level-0);\n",
       "}\n",
       "\n",
       "#sk-container-id-1 div.sk-toggleable__content.fitted pre {\n",
       "  /* unfitted */\n",
       "  background-color: var(--sklearn-color-fitted-level-0);\n",
       "}\n",
       "\n",
       "#sk-container-id-1 input.sk-toggleable__control:checked~div.sk-toggleable__content {\n",
       "  /* Expand drop-down */\n",
       "  max-height: 200px;\n",
       "  max-width: 100%;\n",
       "  overflow: auto;\n",
       "}\n",
       "\n",
       "#sk-container-id-1 input.sk-toggleable__control:checked~label.sk-toggleable__label-arrow:before {\n",
       "  content: \"▾\";\n",
       "}\n",
       "\n",
       "/* Pipeline/ColumnTransformer-specific style */\n",
       "\n",
       "#sk-container-id-1 div.sk-label input.sk-toggleable__control:checked~label.sk-toggleable__label {\n",
       "  color: var(--sklearn-color-text);\n",
       "  background-color: var(--sklearn-color-unfitted-level-2);\n",
       "}\n",
       "\n",
       "#sk-container-id-1 div.sk-label.fitted input.sk-toggleable__control:checked~label.sk-toggleable__label {\n",
       "  background-color: var(--sklearn-color-fitted-level-2);\n",
       "}\n",
       "\n",
       "/* Estimator-specific style */\n",
       "\n",
       "/* Colorize estimator box */\n",
       "#sk-container-id-1 div.sk-estimator input.sk-toggleable__control:checked~label.sk-toggleable__label {\n",
       "  /* unfitted */\n",
       "  background-color: var(--sklearn-color-unfitted-level-2);\n",
       "}\n",
       "\n",
       "#sk-container-id-1 div.sk-estimator.fitted input.sk-toggleable__control:checked~label.sk-toggleable__label {\n",
       "  /* fitted */\n",
       "  background-color: var(--sklearn-color-fitted-level-2);\n",
       "}\n",
       "\n",
       "#sk-container-id-1 div.sk-label label.sk-toggleable__label,\n",
       "#sk-container-id-1 div.sk-label label {\n",
       "  /* The background is the default theme color */\n",
       "  color: var(--sklearn-color-text-on-default-background);\n",
       "}\n",
       "\n",
       "/* On hover, darken the color of the background */\n",
       "#sk-container-id-1 div.sk-label:hover label.sk-toggleable__label {\n",
       "  color: var(--sklearn-color-text);\n",
       "  background-color: var(--sklearn-color-unfitted-level-2);\n",
       "}\n",
       "\n",
       "/* Label box, darken color on hover, fitted */\n",
       "#sk-container-id-1 div.sk-label.fitted:hover label.sk-toggleable__label.fitted {\n",
       "  color: var(--sklearn-color-text);\n",
       "  background-color: var(--sklearn-color-fitted-level-2);\n",
       "}\n",
       "\n",
       "/* Estimator label */\n",
       "\n",
       "#sk-container-id-1 div.sk-label label {\n",
       "  font-family: monospace;\n",
       "  font-weight: bold;\n",
       "  display: inline-block;\n",
       "  line-height: 1.2em;\n",
       "}\n",
       "\n",
       "#sk-container-id-1 div.sk-label-container {\n",
       "  text-align: center;\n",
       "}\n",
       "\n",
       "/* Estimator-specific */\n",
       "#sk-container-id-1 div.sk-estimator {\n",
       "  font-family: monospace;\n",
       "  border: 1px dotted var(--sklearn-color-border-box);\n",
       "  border-radius: 0.25em;\n",
       "  box-sizing: border-box;\n",
       "  margin-bottom: 0.5em;\n",
       "  /* unfitted */\n",
       "  background-color: var(--sklearn-color-unfitted-level-0);\n",
       "}\n",
       "\n",
       "#sk-container-id-1 div.sk-estimator.fitted {\n",
       "  /* fitted */\n",
       "  background-color: var(--sklearn-color-fitted-level-0);\n",
       "}\n",
       "\n",
       "/* on hover */\n",
       "#sk-container-id-1 div.sk-estimator:hover {\n",
       "  /* unfitted */\n",
       "  background-color: var(--sklearn-color-unfitted-level-2);\n",
       "}\n",
       "\n",
       "#sk-container-id-1 div.sk-estimator.fitted:hover {\n",
       "  /* fitted */\n",
       "  background-color: var(--sklearn-color-fitted-level-2);\n",
       "}\n",
       "\n",
       "/* Specification for estimator info (e.g. \"i\" and \"?\") */\n",
       "\n",
       "/* Common style for \"i\" and \"?\" */\n",
       "\n",
       ".sk-estimator-doc-link,\n",
       "a:link.sk-estimator-doc-link,\n",
       "a:visited.sk-estimator-doc-link {\n",
       "  float: right;\n",
       "  font-size: smaller;\n",
       "  line-height: 1em;\n",
       "  font-family: monospace;\n",
       "  background-color: var(--sklearn-color-background);\n",
       "  border-radius: 1em;\n",
       "  height: 1em;\n",
       "  width: 1em;\n",
       "  text-decoration: none !important;\n",
       "  margin-left: 1ex;\n",
       "  /* unfitted */\n",
       "  border: var(--sklearn-color-unfitted-level-1) 1pt solid;\n",
       "  color: var(--sklearn-color-unfitted-level-1);\n",
       "}\n",
       "\n",
       ".sk-estimator-doc-link.fitted,\n",
       "a:link.sk-estimator-doc-link.fitted,\n",
       "a:visited.sk-estimator-doc-link.fitted {\n",
       "  /* fitted */\n",
       "  border: var(--sklearn-color-fitted-level-1) 1pt solid;\n",
       "  color: var(--sklearn-color-fitted-level-1);\n",
       "}\n",
       "\n",
       "/* On hover */\n",
       "div.sk-estimator:hover .sk-estimator-doc-link:hover,\n",
       ".sk-estimator-doc-link:hover,\n",
       "div.sk-label-container:hover .sk-estimator-doc-link:hover,\n",
       ".sk-estimator-doc-link:hover {\n",
       "  /* unfitted */\n",
       "  background-color: var(--sklearn-color-unfitted-level-3);\n",
       "  color: var(--sklearn-color-background);\n",
       "  text-decoration: none;\n",
       "}\n",
       "\n",
       "div.sk-estimator.fitted:hover .sk-estimator-doc-link.fitted:hover,\n",
       ".sk-estimator-doc-link.fitted:hover,\n",
       "div.sk-label-container:hover .sk-estimator-doc-link.fitted:hover,\n",
       ".sk-estimator-doc-link.fitted:hover {\n",
       "  /* fitted */\n",
       "  background-color: var(--sklearn-color-fitted-level-3);\n",
       "  color: var(--sklearn-color-background);\n",
       "  text-decoration: none;\n",
       "}\n",
       "\n",
       "/* Span, style for the box shown on hovering the info icon */\n",
       ".sk-estimator-doc-link span {\n",
       "  display: none;\n",
       "  z-index: 9999;\n",
       "  position: relative;\n",
       "  font-weight: normal;\n",
       "  right: .2ex;\n",
       "  padding: .5ex;\n",
       "  margin: .5ex;\n",
       "  width: min-content;\n",
       "  min-width: 20ex;\n",
       "  max-width: 50ex;\n",
       "  color: var(--sklearn-color-text);\n",
       "  box-shadow: 2pt 2pt 4pt #999;\n",
       "  /* unfitted */\n",
       "  background: var(--sklearn-color-unfitted-level-0);\n",
       "  border: .5pt solid var(--sklearn-color-unfitted-level-3);\n",
       "}\n",
       "\n",
       ".sk-estimator-doc-link.fitted span {\n",
       "  /* fitted */\n",
       "  background: var(--sklearn-color-fitted-level-0);\n",
       "  border: var(--sklearn-color-fitted-level-3);\n",
       "}\n",
       "\n",
       ".sk-estimator-doc-link:hover span {\n",
       "  display: block;\n",
       "}\n",
       "\n",
       "/* \"?\"-specific style due to the `<a>` HTML tag */\n",
       "\n",
       "#sk-container-id-1 a.estimator_doc_link {\n",
       "  float: right;\n",
       "  font-size: 1rem;\n",
       "  line-height: 1em;\n",
       "  font-family: monospace;\n",
       "  background-color: var(--sklearn-color-background);\n",
       "  border-radius: 1rem;\n",
       "  height: 1rem;\n",
       "  width: 1rem;\n",
       "  text-decoration: none;\n",
       "  /* unfitted */\n",
       "  color: var(--sklearn-color-unfitted-level-1);\n",
       "  border: var(--sklearn-color-unfitted-level-1) 1pt solid;\n",
       "}\n",
       "\n",
       "#sk-container-id-1 a.estimator_doc_link.fitted {\n",
       "  /* fitted */\n",
       "  border: var(--sklearn-color-fitted-level-1) 1pt solid;\n",
       "  color: var(--sklearn-color-fitted-level-1);\n",
       "}\n",
       "\n",
       "/* On hover */\n",
       "#sk-container-id-1 a.estimator_doc_link:hover {\n",
       "  /* unfitted */\n",
       "  background-color: var(--sklearn-color-unfitted-level-3);\n",
       "  color: var(--sklearn-color-background);\n",
       "  text-decoration: none;\n",
       "}\n",
       "\n",
       "#sk-container-id-1 a.estimator_doc_link.fitted:hover {\n",
       "  /* fitted */\n",
       "  background-color: var(--sklearn-color-fitted-level-3);\n",
       "}\n",
       "</style><div id=\"sk-container-id-1\" class=\"sk-top-container\"><div class=\"sk-text-repr-fallback\"><pre>LGBMClassifier(verbose=-1)</pre><b>In a Jupyter environment, please rerun this cell to show the HTML representation or trust the notebook. <br />On GitHub, the HTML representation is unable to render, please try loading this page with nbviewer.org.</b></div><div class=\"sk-container\" hidden><div class=\"sk-item\"><div class=\"sk-estimator fitted sk-toggleable\"><input class=\"sk-toggleable__control sk-hidden--visually\" id=\"sk-estimator-id-1\" type=\"checkbox\" checked><label for=\"sk-estimator-id-1\" class=\"sk-toggleable__label fitted sk-toggleable__label-arrow fitted\">&nbsp;LGBMClassifier<span class=\"sk-estimator-doc-link fitted\">i<span>Fitted</span></span></label><div class=\"sk-toggleable__content fitted\"><pre>LGBMClassifier(verbose=-1)</pre></div> </div></div></div></div>"
      ]
     },
     "execution_count": 11,
     "metadata": {},
     "output_type": "execute_result"
    }
   ],
   "execution_count": 11
  },
  {
   "metadata": {
    "ExecuteTime": {
     "end_time": "2024-11-05T20:08:09.869473Z",
     "start_time": "2024-11-05T20:08:08.092278Z"
    }
   },
   "cell_type": "code",
   "source": [
    "# Проводим кросс-валидацию\n",
    "scores = cross_val_score(model, X_train_scaled, y_train, cv=5)\n",
    "print(f'Средняя точность кросс-валидации: {scores.mean():.3f}')"
   ],
   "id": "52140238c15c944c",
   "outputs": [
    {
     "name": "stdout",
     "output_type": "stream",
     "text": [
      "Средняя точность кросс-валидации: 0.733\n"
     ]
    }
   ],
   "execution_count": 12
  },
  {
   "metadata": {
    "ExecuteTime": {
     "end_time": "2024-11-05T20:08:25.342282Z",
     "start_time": "2024-11-05T20:08:25.305084Z"
    }
   },
   "cell_type": "code",
   "source": [
    "# Прогнозируем на тестовой выборке\n",
    "y_pred = model.predict(X_test_scaled)\n",
    "f1 = f1_score(y_test, y_pred, average='weighted')\n",
    "print(f'F1 на тестовых данных: {f1:.3f}')"
   ],
   "id": "c90fb1737477a037",
   "outputs": [
    {
     "name": "stdout",
     "output_type": "stream",
     "text": [
      "F1 на тестовых данных: 0.700\n"
     ]
    }
   ],
   "execution_count": 14
  },
  {
   "metadata": {},
   "cell_type": "markdown",
   "source": "#### Визуализируем прогнозируемые и реальные значения",
   "id": "9510fe9053d0ded9"
  },
  {
   "metadata": {
    "ExecuteTime": {
     "end_time": "2024-11-05T20:08:28.148781Z",
     "start_time": "2024-11-05T20:08:28.133432Z"
    }
   },
   "cell_type": "code",
   "source": [
    "import matplotlib.pyplot as plt\n",
    "import seaborn as sns\n",
    "\n",
    "def visualize_histograms(real_values, predicted_values):\n",
    "    fig, ax = plt.subplots(ncols=2, figsize=(12, 5))\n",
    "    \n",
    "    sns.histplot(real_values, ax=ax[0], kde=False)\n",
    "    ax[0].set_title('Реальные значения')\n",
    "    ax[0].set_xlabel('Значение')\n",
    "    ax[0].set_ylabel('Частота')\n",
    "    \n",
    "    sns.histplot(predicted_values, ax=ax[1], kde=False)\n",
    "    ax[1].set_title('Предсказанные значения')\n",
    "    ax[1].set_xlabel('Значение')\n",
    "    ax[1].set_ylabel('Частота')\n",
    "    \n",
    "    plt.tight_layout()\n",
    "    plt.show()"
   ],
   "id": "10996b833763daac",
   "outputs": [],
   "execution_count": 15
  },
  {
   "metadata": {
    "ExecuteTime": {
     "end_time": "2024-11-05T20:08:32.772733Z",
     "start_time": "2024-11-05T20:08:29.551731Z"
    }
   },
   "cell_type": "code",
   "source": [
    "# Реальные значения\n",
    "real_values = y_test\n",
    "# Предсказанные моделью значения\n",
    "predicted_values = model.predict(X_test_scaled)\n",
    "# Гистограммы\n",
    "visualize_histograms(real_values, predicted_values)"
   ],
   "id": "5ceff2d4776f5eb2",
   "outputs": [
    {
     "data": {
      "text/plain": [
       "<Figure size 1200x500 with 2 Axes>"
      ],
      "image/png": "[encoded data removed]"
     },
     "metadata": {},
     "output_type": "display_data"
    }
   ],
   "execution_count": 16
  },
  {
   "metadata": {},
   "cell_type": "markdown",
   "source": "#### Матрица ошибок (ошибки первого и второго рода)",
   "id": "384595f921ed6311"
  },
  {
   "metadata": {
    "ExecuteTime": {
     "end_time": "2024-11-05T20:08:37.145654Z",
     "start_time": "2024-11-05T20:08:37.113782Z"
    }
   },
   "cell_type": "code",
   "source": [
    "from sklearn.metrics import confusion_matrix\n",
    "\n",
    "def plot_confusion_matrix(y_true, y_pred, class_names=None):\n",
    "    cm = confusion_matrix(y_true, y_pred)\n",
    "    \n",
    "    if class_names is None:\n",
    "        class_names = set(y_test)\n",
    "    \n",
    "    fig, ax = plt.subplots(figsize=(7, 7))\n",
    "    sns.heatmap(cm, annot=True, fmt='d', cmap='Blues', cbar=False, xticklabels=class_names, yticklabels=class_names)\n",
    "    plt.xlabel('Predicted Label')\n",
    "    plt.ylabel('True Label')\n",
    "    plt.title('Confusion Matrix')\n",
    "    plt.show()"
   ],
   "id": "71026e0483d550f2",
   "outputs": [],
   "execution_count": 17
  },
  {
   "metadata": {
    "ExecuteTime": {
     "end_time": "2024-11-05T20:08:39.216824Z",
     "start_time": "2024-11-05T20:08:38.569640Z"
    }
   },
   "cell_type": "code",
   "source": "plot_confusion_matrix(y_test, y_pred)",
   "id": "b4f82606202a4aee",
   "outputs": [
    {
     "data": {
      "text/plain": [
       "<Figure size 700x700 with 1 Axes>"
      ],
      "image/png": "[encoded data removed]"
     },
     "metadata": {},
     "output_type": "display_data"
    }
   ],
   "execution_count": 18
  },
  {
   "metadata": {},
   "cell_type": "markdown",
   "source": "#### Вывод",
   "id": "ef22c8b0825ec3f"
  },
  {
   "metadata": {},
   "cell_type": "markdown",
   "source": [
    "Цель лабораторной работы #2:\n",
    "Разработка приложения для классификации объектов с использованием современных методов машинного обучения.\n",
    "\n",
    "Для проведения исследования использовались следующие инструменты и методы:\n",
    "1. Python с библиотеками Scikit-learn, Pandas, NumPy и Matplotlib для обработки данных, создания моделей и визуализации результатов.\n",
    "2. Jupyter Notebook для интерактивного анализа данных и разработки моделей.\n",
    "3. Наборы данных, содержащие признаки и классы объектов, требующих классификации.\n",
    "\n"
   ],
   "id": "6da6eb20f0db3476"
  },
  {
   "metadata": {
    "ExecuteTime": {
     "end_time": "2024-11-05T20:19:50.434069Z",
     "start_time": "2024-11-05T20:19:50.240721Z"
    }
   },
   "cell_type": "code",
   "source": [
    "from sklearn.metrics import classification_report\n",
    "\n",
    "target_names = [\"class_1\", \"class_2\", \"class_3\", \"class_4\"]\n",
    "print(classification_report(y_test, y_pred, target_names=target_names))"
   ],
   "id": "79a82a135883e17e",
   "outputs": [
    {
     "name": "stdout",
     "output_type": "stream",
     "text": [
      "              precision    recall  f1-score   support\n",
      "\n",
      "     class_1       0.00      0.00      0.00         1\n",
      "     class_2       0.54      0.70      0.61        10\n",
      "     class_3       0.80      0.63      0.71        19\n",
      "     class_4       0.80      0.80      0.80        15\n",
      "\n",
      "    accuracy                           0.69        45\n",
      "   macro avg       0.53      0.53      0.53        45\n",
      "weighted avg       0.72      0.69      0.70        45\n",
      "\n"
     ]
    }
   ],
   "execution_count": 24
  },
  {
   "metadata": {},
   "cell_type": "markdown",
   "source": "Как видно из таблицы, наиболее эффективно алгоритм справился с распознаванием класса 3 и 4, достигнув высоких показателей точности и полноты. Класс 1 оказался самым сложным для распознавания, что может свидетельствовать о недостаточной информативности признаков для данного класса. ",
   "id": "5318e4fbe5cb703f"
  },
  {
   "metadata": {},
   "cell_type": "markdown",
   "source": "Проведённая работа позволила достичь поставленных целей и показала высокую эффективность использования современных методов машинного обучения для задачи классификации. Наиболее подходящим алгоритмом для решения поставленной задачи оказался градиентный бустинг, обеспечивающий максимальную точность при приемлемых затратах времени на обучение.",
   "id": "e6bede49f38e504"
  }
 ],
 "metadata": {
  "kernelspec": {
   "display_name": "Python 3",
   "language": "python",
   "name": "python3"
  },
  "language_info": {
   "codemirror_mode": {
    "name": "ipython",
    "version": 2
   },
   "file_extension": ".py",
   "mimetype": "text/x-python",
   "name": "python",
   "nbconvert_exporter": "python",
   "pygments_lexer": "ipython2",
   "version": "2.7.6"
  }
 },
 "nbformat": 4,
 "nbformat_minor": 5
}
